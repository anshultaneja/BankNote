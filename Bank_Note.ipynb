{
  "nbformat": 4,
  "nbformat_minor": 0,
  "metadata": {
    "colab": {
      "name": "Bank Note.ipynb",
      "provenance": [],
      "include_colab_link": true
    },
    "kernelspec": {
      "name": "python3",
      "display_name": "Python 3"
    },
    "accelerator": "GPU"
  },
  "cells": [
    {
      "cell_type": "markdown",
      "metadata": {
        "id": "view-in-github",
        "colab_type": "text"
      },
      "source": [
        "<a href=\"https://colab.research.google.com/github/anshultaneja/BankNote/blob/main/Bank_Note.ipynb\" target=\"_parent\"><img src=\"https://colab.research.google.com/assets/colab-badge.svg\" alt=\"Open In Colab\"/></a>"
      ]
    },
    {
      "cell_type": "markdown",
      "metadata": {
        "id": "XuXXXtedzVzV"
      },
      "source": [
        "### **Introduction**\n",
        "\n",
        "Classification is a process of dividing the given data points into two or more classes. When the number of classes = 2, it is known as Binary Classification.\n",
        "\n",
        "In this notebook, we'll be performing Binary Classification to predict if a note is genuine or not.\n",
        "\n",
        "There are 2 classes:\n",
        "\n",
        "1. Note is genuine (class=1)\n",
        "2. Note is not genuine (class=0)"
      ]
    },
    {
      "cell_type": "markdown",
      "metadata": {
        "id": "i1UsmC95zHOH"
      },
      "source": [
        "### **Data Description**\n",
        "\n",
        "VWTI: Variance of Wavelet Transformed Image\n",
        "\n",
        "SWTI: Skewness of Wavelet Transformed Image\n",
        "\n",
        "CWTI: Curtosis of Wavelet Transformed Image\n",
        "\n",
        "EI: Entropy of Image\n",
        "\n",
        "Class: Class (1: genuine, 0: forged)\n",
        "]"
      ]
    },
    {
      "cell_type": "markdown",
      "metadata": {
        "id": "dY6ovKb_zuEI"
      },
      "source": [
        "# Loading the basic Data Science Libraries\n",
        "In data science, numpy, pandas and matplotlib are most commonly used libraries. We chose alias names for our libraries for the sake of our convenience (numpy --> np and pandas --> pd, matplotlib.pyplot as plt)."
      ]
    },
    {
      "cell_type": "code",
      "metadata": {
        "id": "vJAEk7nbyE0P"
      },
      "source": [
        "import numpy as np  # for matrix operations\n",
        "import pandas as pd  # for loading CSV Files\n",
        "import matplotlib.pyplot as plt # for Data Visualizationw"
      ],
      "execution_count": 1,
      "outputs": []
    },
    {
      "cell_type": "markdown",
      "metadata": {
        "id": "gcpvRAk7z_Sb"
      },
      "source": [
        "# Loading Data\n",
        "Pandas module is used for reading files. Since we have our data in '.csv' format, we will use 'read_csv()' function for loading the data."
      ]
    },
    {
      "cell_type": "code",
      "metadata": {
        "id": "44mclUsIygQV"
      },
      "source": [
        "bank_note_data = pd.read_csv(\"https://raw.githubusercontent.com/dphi-official/Datasets/master/bank_note_data/training_set_label.csv\" )"
      ],
      "execution_count": 2,
      "outputs": []
    },
    {
      "cell_type": "code",
      "metadata": {
        "id": "MazbNClU0YG2",
        "colab": {
          "base_uri": "https://localhost:8080/",
          "height": 204
        },
        "outputId": "b35fa8bd-dceb-468c-a097-24fcb7880ca8"
      },
      "source": [
        "bank_note_data.head() #head function displays the first 5 rows by default"
      ],
      "execution_count": 3,
      "outputs": [
        {
          "output_type": "execute_result",
          "data": {
            "text/html": [
              "<div>\n",
              "<style scoped>\n",
              "    .dataframe tbody tr th:only-of-type {\n",
              "        vertical-align: middle;\n",
              "    }\n",
              "\n",
              "    .dataframe tbody tr th {\n",
              "        vertical-align: top;\n",
              "    }\n",
              "\n",
              "    .dataframe thead th {\n",
              "        text-align: right;\n",
              "    }\n",
              "</style>\n",
              "<table border=\"1\" class=\"dataframe\">\n",
              "  <thead>\n",
              "    <tr style=\"text-align: right;\">\n",
              "      <th></th>\n",
              "      <th>VWTI</th>\n",
              "      <th>SWTI</th>\n",
              "      <th>CWTI</th>\n",
              "      <th>EI</th>\n",
              "      <th>Class</th>\n",
              "    </tr>\n",
              "  </thead>\n",
              "  <tbody>\n",
              "    <tr>\n",
              "      <th>0</th>\n",
              "      <td>2.2634</td>\n",
              "      <td>-4.4862</td>\n",
              "      <td>3.6558</td>\n",
              "      <td>-0.612510</td>\n",
              "      <td>0</td>\n",
              "    </tr>\n",
              "    <tr>\n",
              "      <th>1</th>\n",
              "      <td>3.2718</td>\n",
              "      <td>1.7837</td>\n",
              "      <td>2.1161</td>\n",
              "      <td>0.613340</td>\n",
              "      <td>0</td>\n",
              "    </tr>\n",
              "    <tr>\n",
              "      <th>2</th>\n",
              "      <td>-3.9411</td>\n",
              "      <td>-12.8792</td>\n",
              "      <td>13.0597</td>\n",
              "      <td>-3.312500</td>\n",
              "      <td>1</td>\n",
              "    </tr>\n",
              "    <tr>\n",
              "      <th>3</th>\n",
              "      <td>0.5195</td>\n",
              "      <td>-3.2633</td>\n",
              "      <td>3.0895</td>\n",
              "      <td>-0.984900</td>\n",
              "      <td>0</td>\n",
              "    </tr>\n",
              "    <tr>\n",
              "      <th>4</th>\n",
              "      <td>2.5698</td>\n",
              "      <td>-4.4076</td>\n",
              "      <td>5.9856</td>\n",
              "      <td>0.078002</td>\n",
              "      <td>0</td>\n",
              "    </tr>\n",
              "  </tbody>\n",
              "</table>\n",
              "</div>"
            ],
            "text/plain": [
              "     VWTI     SWTI     CWTI        EI  Class\n",
              "0  2.2634  -4.4862   3.6558 -0.612510      0\n",
              "1  3.2718   1.7837   2.1161  0.613340      0\n",
              "2 -3.9411 -12.8792  13.0597 -3.312500      1\n",
              "3  0.5195  -3.2633   3.0895 -0.984900      0\n",
              "4  2.5698  -4.4076   5.9856  0.078002      0"
            ]
          },
          "metadata": {
            "tags": []
          },
          "execution_count": 3
        }
      ]
    },
    {
      "cell_type": "code",
      "metadata": {
        "id": "Xr3LGXdL0o1i",
        "colab": {
          "base_uri": "https://localhost:8080/"
        },
        "outputId": "39c8b7c7-9c2b-4316-e739-73eec4dcfb5c"
      },
      "source": [
        "bank_note_data.shape # This gives the shape of the DataFrame i.e the (no. of rows, no. of columns)"
      ],
      "execution_count": 4,
      "outputs": [
        {
          "output_type": "execute_result",
          "data": {
            "text/plain": [
              "(1096, 5)"
            ]
          },
          "metadata": {
            "tags": []
          },
          "execution_count": 4
        }
      ]
    },
    {
      "cell_type": "markdown",
      "metadata": {
        "id": "Hp_-PgGV0_uF"
      },
      "source": [
        "# Separating Input and Target Variable\n",
        "**Target Variable/ Independent Variable(y):** Our objective is to detect the presence of heart disease. Thus, our target variable will be the column that indicates whether heart disease is present or not. \n",
        "\n",
        "We'll store that column in a variable y.\n",
        "\n",
        "**Input Variables/ Dependent Variables(X):** The remaining columns, without the Target variable will be stored in variable X."
      ]
    },
    {
      "cell_type": "code",
      "metadata": {
        "id": "KrrgFsb41EqW"
      },
      "source": [
        "X = bank_note_data.drop('Class', axis=1) #Input variables\n",
        "# axis=1 indicates that a column will be dropped\n",
        "y = bank_note_data['Class']  # Target variable"
      ],
      "execution_count": 5,
      "outputs": []
    },
    {
      "cell_type": "markdown",
      "metadata": {
        "id": "kXfohC6u1eu-"
      },
      "source": [
        "# Splitting into Train and Test Sets\n",
        "The next step will be to divide the data into test and train sets. We want to check the performance of the model that we built. For this purpose, we always split (both input and output data) the given data into **train set** which will be used to train the model, and **test set** which will be used to check how accurately the model is predicting outcomes.\n",
        "\n",
        "This is achieved using `train_test_split` function provided in the `model_selection class of sklearn` module.\n",
        "\n",
        "By passing our X and y variables into the train_test_split method, we are able to capture the splits in data by assigning 4 variables to the result.\n",
        "\n",
        "* **X_train:** independent/input feature data for training the model\n",
        "* **y_train:** dependent/output feature data for training the model\n",
        "* **X_test:** independent/input feature data for testing the model; will be used to predict the output values\n",
        "* **y_test:** original dependent/output values of X_test; We will compare this values with our predicted values to check the performance of our built model.\n",
        "* **test_size = 0.20:** 20% of the data will go for test set and 80% of the data will go for train set\n",
        "* **random_state = 42:** this is just for code reproducability. It will fix the split i.e. there will be the same data in train and test sets each time you run the code"
      ]
    },
    {
      "cell_type": "code",
      "metadata": {
        "id": "9Z801Zj_1fdm"
      },
      "source": [
        "from sklearn.model_selection import train_test_split\n",
        "X_train, X_test, y_train, y_test = train_test_split(X, y, test_size=0.2, random_state=42)"
      ],
      "execution_count": 6,
      "outputs": []
    },
    {
      "cell_type": "code",
      "metadata": {
        "id": "oOFCOrnw1uz1",
        "colab": {
          "base_uri": "https://localhost:8080/"
        },
        "outputId": "eef326c2-c998-4563-c976-09bbacb6238c"
      },
      "source": [
        "# find the number of input features\n",
        "X_train.shape[1]"
      ],
      "execution_count": 7,
      "outputs": [
        {
          "output_type": "execute_result",
          "data": {
            "text/plain": [
              "4"
            ]
          },
          "metadata": {
            "tags": []
          },
          "execution_count": 7
        }
      ]
    },
    {
      "cell_type": "markdown",
      "metadata": {
        "id": "SIQzwLyF11WZ"
      },
      "source": [
        "# Model Building\n",
        "Now that we have our data fully processed and split into training and testing datasets, we can begin building a neural network to solve this classification problem. "
      ]
    },
    {
      "cell_type": "code",
      "metadata": {
        "id": "capBwltU12Tn"
      },
      "source": [
        "# Imports\n",
        "import tensorflow as tf  # Importing the TensorFlow Library\n",
        "from tensorflow import keras  # Import Keras from TensorFlow\n",
        "\n",
        "from tensorflow.keras import Sequential \n",
        "from tensorflow.keras import layers\n",
        "from tensorflow.keras.layers import Dense"
      ],
      "execution_count": 8,
      "outputs": []
    },
    {
      "cell_type": "markdown",
      "metadata": {
        "id": "t5925Ncc2CYd"
      },
      "source": [
        "## Model Creation/ Definition\n",
        "We create a Sequential model and add layers one at a time until we are happy with our network architecture.\n",
        "\n",
        "The first thing to get right is to ensure the input layer has the right number of input features.\n",
        "\n",
        "Since this is a binary classification problem, we will use a sigmoid activation function in the final layer of our network.\n",
        "\n",
        "**Sigmoid is commonly used in the output layer. This is because it helps in giving a probability(value between 0 and 1) which is useful in Binary Classification.**"
      ]
    },
    {
      "cell_type": "markdown",
      "metadata": {
        "id": "gu5u9f0y2Hl5"
      },
      "source": [
        "### Our model architecture\n",
        "For our model, we'll be considering the following:\n",
        "\n",
        "* Input = the no. of features in X_train = 4\n",
        "* No. of neurons/units in first Dense layer = 32\n",
        "* No. of neurons/units in second Dense layer = 16\n",
        "* No. of neurons/units in third Dense layer = 8\n",
        "* No. of neurons/units in output layer = 1"
      ]
    },
    {
      "cell_type": "code",
      "metadata": {
        "id": "KwcxpTV62ML2"
      },
      "source": [
        "# Building the model\n",
        "model = Sequential()\n",
        "model.add(Dense(32, activation='relu', input_shape=(X_train.shape[1],)))   \n",
        "model.add(Dense(16, activation='relu'))\n",
        "model.add(Dense(8, activation='relu'))\n",
        "model.add(Dense(1, activation='sigmoid'))     "
      ],
      "execution_count": 9,
      "outputs": []
    },
    {
      "cell_type": "markdown",
      "metadata": {
        "id": "oGNc9SK12YY3"
      },
      "source": [
        "* The above code creates a Neural Network that has 4 layers. \n",
        "\n",
        "* The **last node** uses the **sigmoid activation function** that will squeeze all the values between 0 and 1.\n",
        "\n",
        "* The other layers use **ReLU (Rectified Linear Units)** as the activation function. ReLU is a half rectified function; that is, for all the inputs less than 0 (e.g. -120,-6.7, -0.0344, 0) the value is 0 while for anything positive (e.g. 10,15, 34) the value is retained. \n",
        "\n",
        "* One output unit is used since for each record values in X, a probability will be predicted. If it is high, then the note is genuine. If it is less, then the note is not genuine."
      ]
    },
    {
      "cell_type": "markdown",
      "metadata": {
        "id": "ju1uPVJs2rtu"
      },
      "source": [
        "## Model Compilation"
      ]
    },
    {
      "cell_type": "code",
      "metadata": {
        "id": "FLqBhVE42wiE"
      },
      "source": [
        "# Compiling the model\n",
        "from tensorflow.keras.optimizers import RMSprop\n",
        "optimizer = RMSprop(0.001)  # Here, we have set our learning rate as 0.001\n",
        "model.compile(loss='binary_crossentropy', optimizer= optimizer , metrics=['accuracy'])"
      ],
      "execution_count": 10,
      "outputs": []
    },
    {
      "cell_type": "code",
      "metadata": {
        "id": "MsTAIyQL24I9",
        "colab": {
          "base_uri": "https://localhost:8080/"
        },
        "outputId": "aae1eb35-4a95-4896-945d-046037379ca1"
      },
      "source": [
        "# printing the summary of the model\n",
        "model.summary()"
      ],
      "execution_count": 11,
      "outputs": [
        {
          "output_type": "stream",
          "text": [
            "Model: \"sequential\"\n",
            "_________________________________________________________________\n",
            "Layer (type)                 Output Shape              Param #   \n",
            "=================================================================\n",
            "dense (Dense)                (None, 32)                160       \n",
            "_________________________________________________________________\n",
            "dense_1 (Dense)              (None, 16)                528       \n",
            "_________________________________________________________________\n",
            "dense_2 (Dense)              (None, 8)                 136       \n",
            "_________________________________________________________________\n",
            "dense_3 (Dense)              (None, 1)                 9         \n",
            "=================================================================\n",
            "Total params: 833\n",
            "Trainable params: 833\n",
            "Non-trainable params: 0\n",
            "_________________________________________________________________\n"
          ],
          "name": "stdout"
        }
      ]
    },
    {
      "cell_type": "code",
      "metadata": {
        "id": "C7iNySlf2-sF",
        "colab": {
          "base_uri": "https://localhost:8080/",
          "height": 466
        },
        "outputId": "c06a4f93-d479-401f-83f7-7523c19e4440"
      },
      "source": [
        "# plotting the model\n",
        "from tensorflow.keras.utils import plot_model\n",
        "plot_model(model)"
      ],
      "execution_count": 12,
      "outputs": [
        {
          "output_type": "execute_result",
          "data": {
            "image/png": "[encoded data removed]",
            "text/plain": [
              "<IPython.core.display.Image object>"
            ]
          },
          "metadata": {
            "tags": []
          },
          "execution_count": 12
        }
      ]
    },
    {
      "cell_type": "markdown",
      "metadata": {
        "id": "GKqFKUD_3HJk"
      },
      "source": [
        "## Model Training\n",
        "The model is initially trained for **200 epochs** with a **batch size of 10**. \n",
        "Both epochs and batch size are hyperparameters that can be modified to optimise the model.\n",
        "\n",
        "**validation_split:** Fraction of the training data to be used as validation data. The model will set apart this fraction of the training data, will not train on it, and will evaluate the loss and any model metrics on this data at the end of each epoch. \n",
        "The val_loss and val_accuracy that you can see below are calculated with this validation data.\n",
        "\n",
        "\n",
        "**verbose:** Verbose is just for printing purposes, for making the output more readable.\n"
      ]
    },
    {
      "cell_type": "markdown",
      "metadata": {
        "id": "NVzuSw6e3MSn"
      },
      "source": [
        "### History\n",
        "Notice that we're saving the trained model to a variable **history**. \n",
        "\n",
        "When running a model, Tensorflow Keras maintains a so-called History object in the background. This object keeps all loss values and other metric values in memory so that they can be used for visualizations.\n",
        "\n",
        "The history object is the output of the fit operation."
      ]
    },
    {
      "cell_type": "code",
      "metadata": {
        "id": "UitPpc2Q3QxK",
        "colab": {
          "base_uri": "https://localhost:8080/"
        },
        "outputId": "a9a3bf37-1b44-432a-9549-3778bf66c83c"
      },
      "source": [
        "history = model.fit(X_train, y_train, validation_split=0.2, epochs=200, batch_size=10, verbose=1)"
      ],
      "execution_count": 13,
      "outputs": [
        {
          "output_type": "stream",
          "text": [
            "Epoch 1/200\n",
            "70/70 [==============================] - 1s 7ms/step - loss: 0.5894 - accuracy: 0.5857 - val_loss: 0.4644 - val_accuracy: 0.8977\n",
            "Epoch 2/200\n",
            "70/70 [==============================] - 0s 4ms/step - loss: 0.4022 - accuracy: 0.9300 - val_loss: 0.3452 - val_accuracy: 0.9830\n",
            "Epoch 3/200\n",
            "70/70 [==============================] - 0s 4ms/step - loss: 0.2389 - accuracy: 0.9771 - val_loss: 0.1011 - val_accuracy: 0.9943\n",
            "Epoch 4/200\n",
            "70/70 [==============================] - 0s 4ms/step - loss: 0.0639 - accuracy: 0.9886 - val_loss: 0.0356 - val_accuracy: 0.9943\n",
            "Epoch 5/200\n",
            "70/70 [==============================] - 0s 4ms/step - loss: 0.0246 - accuracy: 0.9971 - val_loss: 0.0147 - val_accuracy: 1.0000\n",
            "Epoch 6/200\n",
            "70/70 [==============================] - 0s 4ms/step - loss: 0.0110 - accuracy: 1.0000 - val_loss: 0.0064 - val_accuracy: 1.0000\n",
            "Epoch 7/200\n",
            "70/70 [==============================] - 0s 4ms/step - loss: 0.0055 - accuracy: 1.0000 - val_loss: 0.0041 - val_accuracy: 1.0000\n",
            "Epoch 8/200\n",
            "70/70 [==============================] - 0s 4ms/step - loss: 0.0030 - accuracy: 1.0000 - val_loss: 0.0021 - val_accuracy: 1.0000\n",
            "Epoch 9/200\n",
            "70/70 [==============================] - 0s 4ms/step - loss: 0.0018 - accuracy: 1.0000 - val_loss: 0.0012 - val_accuracy: 1.0000\n",
            "Epoch 10/200\n",
            "70/70 [==============================] - 0s 4ms/step - loss: 9.5396e-04 - accuracy: 1.0000 - val_loss: 7.0706e-04 - val_accuracy: 1.0000\n",
            "Epoch 11/200\n",
            "70/70 [==============================] - 0s 4ms/step - loss: 0.0021 - accuracy: 0.9986 - val_loss: 4.9143e-04 - val_accuracy: 1.0000\n",
            "Epoch 12/200\n",
            "70/70 [==============================] - 0s 4ms/step - loss: 6.5536e-04 - accuracy: 1.0000 - val_loss: 3.0085e-04 - val_accuracy: 1.0000\n",
            "Epoch 13/200\n",
            "70/70 [==============================] - 0s 4ms/step - loss: 2.7111e-04 - accuracy: 1.0000 - val_loss: 2.1733e-04 - val_accuracy: 1.0000\n",
            "Epoch 14/200\n",
            "70/70 [==============================] - 0s 4ms/step - loss: 1.7690e-04 - accuracy: 1.0000 - val_loss: 1.0507e-04 - val_accuracy: 1.0000\n",
            "Epoch 15/200\n",
            "70/70 [==============================] - 0s 4ms/step - loss: 2.2815e-04 - accuracy: 1.0000 - val_loss: 8.5377e-05 - val_accuracy: 1.0000\n",
            "Epoch 16/200\n",
            "70/70 [==============================] - 0s 4ms/step - loss: 8.7571e-05 - accuracy: 1.0000 - val_loss: 6.1126e-05 - val_accuracy: 1.0000\n",
            "Epoch 17/200\n",
            "70/70 [==============================] - 0s 3ms/step - loss: 4.4249e-05 - accuracy: 1.0000 - val_loss: 2.5247e-05 - val_accuracy: 1.0000\n",
            "Epoch 18/200\n",
            "70/70 [==============================] - 0s 4ms/step - loss: 3.3758e-05 - accuracy: 1.0000 - val_loss: 2.3753e-05 - val_accuracy: 1.0000\n",
            "Epoch 19/200\n",
            "70/70 [==============================] - 0s 4ms/step - loss: 1.7354e-05 - accuracy: 1.0000 - val_loss: 3.1335e-05 - val_accuracy: 1.0000\n",
            "Epoch 20/200\n",
            "70/70 [==============================] - 0s 4ms/step - loss: 1.2325e-05 - accuracy: 1.0000 - val_loss: 4.6897e-06 - val_accuracy: 1.0000\n",
            "Epoch 21/200\n",
            "70/70 [==============================] - 0s 4ms/step - loss: 7.1294e-06 - accuracy: 1.0000 - val_loss: 4.3882e-06 - val_accuracy: 1.0000\n",
            "Epoch 22/200\n",
            "70/70 [==============================] - 0s 4ms/step - loss: 3.5584e-06 - accuracy: 1.0000 - val_loss: 3.3347e-06 - val_accuracy: 1.0000\n",
            "Epoch 23/200\n",
            "70/70 [==============================] - 0s 4ms/step - loss: 1.9640e-06 - accuracy: 1.0000 - val_loss: 8.2664e-07 - val_accuracy: 1.0000\n",
            "Epoch 24/200\n",
            "70/70 [==============================] - 0s 4ms/step - loss: 1.5858e-06 - accuracy: 1.0000 - val_loss: 1.8300e-06 - val_accuracy: 1.0000\n",
            "Epoch 25/200\n",
            "70/70 [==============================] - 0s 4ms/step - loss: 5.9101e-07 - accuracy: 1.0000 - val_loss: 1.6941e-06 - val_accuracy: 1.0000\n",
            "Epoch 26/200\n",
            "70/70 [==============================] - 0s 4ms/step - loss: 3.2183e-07 - accuracy: 1.0000 - val_loss: 1.7811e-07 - val_accuracy: 1.0000\n",
            "Epoch 27/200\n",
            "70/70 [==============================] - 0s 4ms/step - loss: 2.4860e-07 - accuracy: 1.0000 - val_loss: 8.2744e-08 - val_accuracy: 1.0000\n",
            "Epoch 28/200\n",
            "70/70 [==============================] - 0s 4ms/step - loss: 1.3445e-07 - accuracy: 1.0000 - val_loss: 4.5931e-08 - val_accuracy: 1.0000\n",
            "Epoch 29/200\n",
            "70/70 [==============================] - 0s 4ms/step - loss: 2.4920e-07 - accuracy: 1.0000 - val_loss: 7.8589e-08 - val_accuracy: 1.0000\n",
            "Epoch 30/200\n",
            "70/70 [==============================] - 0s 3ms/step - loss: 5.1287e-08 - accuracy: 1.0000 - val_loss: 6.9526e-08 - val_accuracy: 1.0000\n",
            "Epoch 31/200\n",
            "70/70 [==============================] - 0s 4ms/step - loss: 2.8182e-08 - accuracy: 1.0000 - val_loss: 6.8981e-08 - val_accuracy: 1.0000\n",
            "Epoch 32/200\n",
            "70/70 [==============================] - 0s 4ms/step - loss: 2.0436e-08 - accuracy: 1.0000 - val_loss: 1.0902e-08 - val_accuracy: 1.0000\n",
            "Epoch 33/200\n",
            "70/70 [==============================] - 0s 4ms/step - loss: 1.4616e-08 - accuracy: 1.0000 - val_loss: 1.5368e-08 - val_accuracy: 1.0000\n",
            "Epoch 34/200\n",
            "70/70 [==============================] - 0s 4ms/step - loss: 8.6762e-09 - accuracy: 1.0000 - val_loss: 1.2435e-08 - val_accuracy: 1.0000\n",
            "Epoch 35/200\n",
            "70/70 [==============================] - 0s 4ms/step - loss: 6.2665e-09 - accuracy: 1.0000 - val_loss: 1.3733e-08 - val_accuracy: 1.0000\n",
            "Epoch 36/200\n",
            "70/70 [==============================] - 0s 4ms/step - loss: 4.2011e-09 - accuracy: 1.0000 - val_loss: 1.1662e-08 - val_accuracy: 1.0000\n",
            "Epoch 37/200\n",
            "70/70 [==============================] - 0s 4ms/step - loss: 3.7890e-09 - accuracy: 1.0000 - val_loss: 1.0246e-08 - val_accuracy: 1.0000\n",
            "Epoch 38/200\n",
            "70/70 [==============================] - 0s 4ms/step - loss: 2.6775e-09 - accuracy: 1.0000 - val_loss: 4.6235e-09 - val_accuracy: 1.0000\n",
            "Epoch 39/200\n",
            "70/70 [==============================] - 0s 4ms/step - loss: 2.4035e-09 - accuracy: 1.0000 - val_loss: 6.9094e-09 - val_accuracy: 1.0000\n",
            "Epoch 40/200\n",
            "70/70 [==============================] - 0s 4ms/step - loss: 1.9883e-09 - accuracy: 1.0000 - val_loss: 4.1035e-09 - val_accuracy: 1.0000\n",
            "Epoch 41/200\n",
            "70/70 [==============================] - 0s 4ms/step - loss: 1.6738e-09 - accuracy: 1.0000 - val_loss: 5.2044e-09 - val_accuracy: 1.0000\n",
            "Epoch 42/200\n",
            "70/70 [==============================] - 0s 4ms/step - loss: 1.4455e-09 - accuracy: 1.0000 - val_loss: 4.8924e-09 - val_accuracy: 1.0000\n",
            "Epoch 43/200\n",
            "70/70 [==============================] - 0s 4ms/step - loss: 1.3374e-09 - accuracy: 1.0000 - val_loss: 4.4205e-09 - val_accuracy: 1.0000\n",
            "Epoch 44/200\n",
            "70/70 [==============================] - 0s 4ms/step - loss: 1.1077e-09 - accuracy: 1.0000 - val_loss: 3.5412e-09 - val_accuracy: 1.0000\n",
            "Epoch 45/200\n",
            "70/70 [==============================] - 0s 4ms/step - loss: 9.9980e-10 - accuracy: 1.0000 - val_loss: 3.1683e-09 - val_accuracy: 1.0000\n",
            "Epoch 46/200\n",
            "70/70 [==============================] - 0s 4ms/step - loss: 9.9464e-10 - accuracy: 1.0000 - val_loss: 3.2097e-09 - val_accuracy: 1.0000\n",
            "Epoch 47/200\n",
            "70/70 [==============================] - 0s 4ms/step - loss: 9.2700e-10 - accuracy: 1.0000 - val_loss: 5.8941e-09 - val_accuracy: 1.0000\n",
            "Epoch 48/200\n",
            "70/70 [==============================] - 0s 4ms/step - loss: 8.0900e-10 - accuracy: 1.0000 - val_loss: 2.7860e-09 - val_accuracy: 1.0000\n",
            "Epoch 49/200\n",
            "70/70 [==============================] - 0s 4ms/step - loss: 7.2240e-10 - accuracy: 1.0000 - val_loss: 2.0683e-09 - val_accuracy: 1.0000\n",
            "Epoch 50/200\n",
            "70/70 [==============================] - 0s 4ms/step - loss: 7.9019e-10 - accuracy: 1.0000 - val_loss: 3.6309e-09 - val_accuracy: 1.0000\n",
            "Epoch 51/200\n",
            "70/70 [==============================] - 0s 4ms/step - loss: 6.7873e-10 - accuracy: 1.0000 - val_loss: 1.8892e-09 - val_accuracy: 1.0000\n",
            "Epoch 52/200\n",
            "70/70 [==============================] - 0s 4ms/step - loss: 6.1063e-10 - accuracy: 1.0000 - val_loss: 1.7597e-09 - val_accuracy: 1.0000\n",
            "Epoch 53/200\n",
            "70/70 [==============================] - 0s 4ms/step - loss: 5.6405e-10 - accuracy: 1.0000 - val_loss: 1.7237e-09 - val_accuracy: 1.0000\n",
            "Epoch 54/200\n",
            "70/70 [==============================] - 0s 4ms/step - loss: 5.5620e-10 - accuracy: 1.0000 - val_loss: 1.3741e-09 - val_accuracy: 1.0000\n",
            "Epoch 55/200\n",
            "70/70 [==============================] - 0s 4ms/step - loss: 5.3536e-10 - accuracy: 1.0000 - val_loss: 1.3648e-09 - val_accuracy: 1.0000\n",
            "Epoch 56/200\n",
            "70/70 [==============================] - 0s 4ms/step - loss: 5.1853e-10 - accuracy: 1.0000 - val_loss: 1.4192e-09 - val_accuracy: 1.0000\n",
            "Epoch 57/200\n",
            "70/70 [==============================] - 0s 4ms/step - loss: 5.1675e-10 - accuracy: 1.0000 - val_loss: 1.2366e-09 - val_accuracy: 1.0000\n",
            "Epoch 58/200\n",
            "70/70 [==============================] - 0s 4ms/step - loss: 5.7159e-10 - accuracy: 1.0000 - val_loss: 1.8261e-09 - val_accuracy: 1.0000\n",
            "Epoch 59/200\n",
            "70/70 [==============================] - 0s 4ms/step - loss: 4.6424e-10 - accuracy: 1.0000 - val_loss: 1.4288e-09 - val_accuracy: 1.0000\n",
            "Epoch 60/200\n",
            "70/70 [==============================] - 0s 4ms/step - loss: 4.4640e-10 - accuracy: 1.0000 - val_loss: 1.1202e-09 - val_accuracy: 1.0000\n",
            "Epoch 61/200\n",
            "70/70 [==============================] - 0s 4ms/step - loss: 3.9738e-10 - accuracy: 1.0000 - val_loss: 1.0394e-09 - val_accuracy: 1.0000\n",
            "Epoch 62/200\n",
            "70/70 [==============================] - 0s 4ms/step - loss: 3.8350e-10 - accuracy: 1.0000 - val_loss: 9.7108e-10 - val_accuracy: 1.0000\n",
            "Epoch 63/200\n",
            "70/70 [==============================] - 0s 3ms/step - loss: 3.8074e-10 - accuracy: 1.0000 - val_loss: 9.3415e-10 - val_accuracy: 1.0000\n",
            "Epoch 64/200\n",
            "70/70 [==============================] - 0s 4ms/step - loss: 3.8249e-10 - accuracy: 1.0000 - val_loss: 9.1158e-10 - val_accuracy: 1.0000\n",
            "Epoch 65/200\n",
            "70/70 [==============================] - 0s 4ms/step - loss: 3.6837e-10 - accuracy: 1.0000 - val_loss: 8.8741e-10 - val_accuracy: 1.0000\n",
            "Epoch 66/200\n",
            "70/70 [==============================] - 0s 4ms/step - loss: 3.6966e-10 - accuracy: 1.0000 - val_loss: 8.6828e-10 - val_accuracy: 1.0000\n",
            "Epoch 67/200\n",
            "70/70 [==============================] - 0s 4ms/step - loss: 3.8427e-10 - accuracy: 1.0000 - val_loss: 8.5821e-10 - val_accuracy: 1.0000\n",
            "Epoch 68/200\n",
            "70/70 [==============================] - 0s 4ms/step - loss: 3.5054e-10 - accuracy: 1.0000 - val_loss: 8.1015e-10 - val_accuracy: 1.0000\n",
            "Epoch 69/200\n",
            "70/70 [==============================] - 0s 4ms/step - loss: 3.6238e-10 - accuracy: 1.0000 - val_loss: 7.8815e-10 - val_accuracy: 1.0000\n",
            "Epoch 70/200\n",
            "70/70 [==============================] - 0s 4ms/step - loss: 3.4426e-10 - accuracy: 1.0000 - val_loss: 7.6292e-10 - val_accuracy: 1.0000\n",
            "Epoch 71/200\n",
            "70/70 [==============================] - 0s 4ms/step - loss: 3.5140e-10 - accuracy: 1.0000 - val_loss: 7.5781e-10 - val_accuracy: 1.0000\n",
            "Epoch 72/200\n",
            "70/70 [==============================] - 0s 5ms/step - loss: 4.1699e-10 - accuracy: 1.0000 - val_loss: 1.2810e-09 - val_accuracy: 1.0000\n",
            "Epoch 73/200\n",
            "70/70 [==============================] - 0s 4ms/step - loss: 3.2415e-10 - accuracy: 1.0000 - val_loss: 9.6053e-10 - val_accuracy: 1.0000\n",
            "Epoch 74/200\n",
            "70/70 [==============================] - 0s 4ms/step - loss: 3.1291e-10 - accuracy: 1.0000 - val_loss: 8.8951e-10 - val_accuracy: 1.0000\n",
            "Epoch 75/200\n",
            "70/70 [==============================] - 0s 4ms/step - loss: 2.9741e-10 - accuracy: 1.0000 - val_loss: 7.9126e-10 - val_accuracy: 1.0000\n",
            "Epoch 76/200\n",
            "70/70 [==============================] - 0s 4ms/step - loss: 2.4190e-10 - accuracy: 1.0000 - val_loss: 7.5094e-10 - val_accuracy: 1.0000\n",
            "Epoch 77/200\n",
            "70/70 [==============================] - 0s 4ms/step - loss: 2.3626e-10 - accuracy: 1.0000 - val_loss: 7.1870e-10 - val_accuracy: 1.0000\n",
            "Epoch 78/200\n",
            "70/70 [==============================] - 0s 4ms/step - loss: 2.3201e-10 - accuracy: 1.0000 - val_loss: 7.0531e-10 - val_accuracy: 1.0000\n",
            "Epoch 79/200\n",
            "70/70 [==============================] - 0s 4ms/step - loss: 2.3196e-10 - accuracy: 1.0000 - val_loss: 7.2855e-10 - val_accuracy: 1.0000\n",
            "Epoch 80/200\n",
            "70/70 [==============================] - 0s 4ms/step - loss: 2.3204e-10 - accuracy: 1.0000 - val_loss: 7.4603e-10 - val_accuracy: 1.0000\n",
            "Epoch 81/200\n",
            "70/70 [==============================] - 0s 4ms/step - loss: 2.3213e-10 - accuracy: 1.0000 - val_loss: 7.5651e-10 - val_accuracy: 1.0000\n",
            "Epoch 82/200\n",
            "70/70 [==============================] - 0s 4ms/step - loss: 2.2545e-10 - accuracy: 1.0000 - val_loss: 7.7494e-10 - val_accuracy: 1.0000\n",
            "Epoch 83/200\n",
            "70/70 [==============================] - 0s 4ms/step - loss: 2.2805e-10 - accuracy: 1.0000 - val_loss: 6.4894e-10 - val_accuracy: 1.0000\n",
            "Epoch 84/200\n",
            "70/70 [==============================] - 0s 4ms/step - loss: 2.2867e-10 - accuracy: 1.0000 - val_loss: 6.7103e-10 - val_accuracy: 1.0000\n",
            "Epoch 85/200\n",
            "70/70 [==============================] - 0s 4ms/step - loss: 2.3978e-10 - accuracy: 1.0000 - val_loss: 5.8021e-10 - val_accuracy: 1.0000\n",
            "Epoch 86/200\n",
            "70/70 [==============================] - 0s 5ms/step - loss: 2.4452e-10 - accuracy: 1.0000 - val_loss: 6.2321e-10 - val_accuracy: 1.0000\n",
            "Epoch 87/200\n",
            "70/70 [==============================] - 0s 4ms/step - loss: 2.3982e-10 - accuracy: 1.0000 - val_loss: 5.4511e-10 - val_accuracy: 1.0000\n",
            "Epoch 88/200\n",
            "70/70 [==============================] - 0s 4ms/step - loss: 2.9623e-10 - accuracy: 1.0000 - val_loss: 1.0794e-09 - val_accuracy: 1.0000\n",
            "Epoch 89/200\n",
            "70/70 [==============================] - 0s 4ms/step - loss: 2.2507e-10 - accuracy: 1.0000 - val_loss: 7.4443e-10 - val_accuracy: 1.0000\n",
            "Epoch 90/200\n",
            "70/70 [==============================] - 0s 4ms/step - loss: 2.0821e-10 - accuracy: 1.0000 - val_loss: 6.0338e-10 - val_accuracy: 1.0000\n",
            "Epoch 91/200\n",
            "70/70 [==============================] - 0s 4ms/step - loss: 2.0758e-10 - accuracy: 1.0000 - val_loss: 5.1365e-10 - val_accuracy: 1.0000\n",
            "Epoch 92/200\n",
            "70/70 [==============================] - 0s 4ms/step - loss: 2.0772e-10 - accuracy: 1.0000 - val_loss: 4.4951e-10 - val_accuracy: 1.0000\n",
            "Epoch 93/200\n",
            "70/70 [==============================] - 0s 4ms/step - loss: 2.1194e-10 - accuracy: 1.0000 - val_loss: 4.0197e-10 - val_accuracy: 1.0000\n",
            "Epoch 94/200\n",
            "70/70 [==============================] - 0s 4ms/step - loss: 2.1465e-10 - accuracy: 1.0000 - val_loss: 4.3817e-10 - val_accuracy: 1.0000\n",
            "Epoch 95/200\n",
            "70/70 [==============================] - 0s 4ms/step - loss: 2.1587e-10 - accuracy: 1.0000 - val_loss: 3.9390e-10 - val_accuracy: 1.0000\n",
            "Epoch 96/200\n",
            "70/70 [==============================] - 0s 4ms/step - loss: 2.2789e-10 - accuracy: 1.0000 - val_loss: 3.5867e-10 - val_accuracy: 1.0000\n",
            "Epoch 97/200\n",
            "70/70 [==============================] - 0s 4ms/step - loss: 2.4827e-10 - accuracy: 1.0000 - val_loss: 3.9531e-10 - val_accuracy: 1.0000\n",
            "Epoch 98/200\n",
            "70/70 [==============================] - 0s 4ms/step - loss: 2.3751e-10 - accuracy: 1.0000 - val_loss: 3.6047e-10 - val_accuracy: 1.0000\n",
            "Epoch 99/200\n",
            "70/70 [==============================] - 0s 4ms/step - loss: 2.5095e-10 - accuracy: 1.0000 - val_loss: 3.3183e-10 - val_accuracy: 1.0000\n",
            "Epoch 100/200\n",
            "70/70 [==============================] - 0s 4ms/step - loss: 3.1512e-10 - accuracy: 1.0000 - val_loss: 6.6722e-10 - val_accuracy: 1.0000\n",
            "Epoch 101/200\n",
            "70/70 [==============================] - 0s 4ms/step - loss: 2.0367e-10 - accuracy: 1.0000 - val_loss: 5.2636e-10 - val_accuracy: 1.0000\n",
            "Epoch 102/200\n",
            "70/70 [==============================] - 0s 4ms/step - loss: 1.9853e-10 - accuracy: 1.0000 - val_loss: 4.4484e-10 - val_accuracy: 1.0000\n",
            "Epoch 103/200\n",
            "70/70 [==============================] - 0s 4ms/step - loss: 1.9553e-10 - accuracy: 1.0000 - val_loss: 3.8930e-10 - val_accuracy: 1.0000\n",
            "Epoch 104/200\n",
            "70/70 [==============================] - 0s 4ms/step - loss: 1.9495e-10 - accuracy: 1.0000 - val_loss: 3.4848e-10 - val_accuracy: 1.0000\n",
            "Epoch 105/200\n",
            "70/70 [==============================] - 0s 4ms/step - loss: 1.9825e-10 - accuracy: 1.0000 - val_loss: 3.1687e-10 - val_accuracy: 1.0000\n",
            "Epoch 106/200\n",
            "70/70 [==============================] - 0s 4ms/step - loss: 2.0561e-10 - accuracy: 1.0000 - val_loss: 2.9159e-10 - val_accuracy: 1.0000\n",
            "Epoch 107/200\n",
            "70/70 [==============================] - 0s 5ms/step - loss: 2.1320e-10 - accuracy: 1.0000 - val_loss: 2.7070e-10 - val_accuracy: 1.0000\n",
            "Epoch 108/200\n",
            "70/70 [==============================] - 1s 7ms/step - loss: 2.0913e-10 - accuracy: 1.0000 - val_loss: 3.0458e-10 - val_accuracy: 1.0000\n",
            "Epoch 109/200\n",
            "70/70 [==============================] - 0s 4ms/step - loss: 2.1330e-10 - accuracy: 1.0000 - val_loss: 2.8202e-10 - val_accuracy: 1.0000\n",
            "Epoch 110/200\n",
            "70/70 [==============================] - 0s 4ms/step - loss: 2.2817e-10 - accuracy: 1.0000 - val_loss: 2.6331e-10 - val_accuracy: 1.0000\n",
            "Epoch 111/200\n",
            "70/70 [==============================] - 0s 4ms/step - loss: 2.4248e-10 - accuracy: 1.0000 - val_loss: 2.4721e-10 - val_accuracy: 1.0000\n",
            "Epoch 112/200\n",
            "70/70 [==============================] - 0s 4ms/step - loss: 2.5096e-10 - accuracy: 1.0000 - val_loss: 5.5865e-10 - val_accuracy: 1.0000\n",
            "Epoch 113/200\n",
            "70/70 [==============================] - 0s 4ms/step - loss: 1.9651e-10 - accuracy: 1.0000 - val_loss: 4.3951e-10 - val_accuracy: 1.0000\n",
            "Epoch 114/200\n",
            "70/70 [==============================] - 0s 4ms/step - loss: 1.8804e-10 - accuracy: 1.0000 - val_loss: 3.7177e-10 - val_accuracy: 1.0000\n",
            "Epoch 115/200\n",
            "70/70 [==============================] - 0s 4ms/step - loss: 1.8701e-10 - accuracy: 1.0000 - val_loss: 3.2701e-10 - val_accuracy: 1.0000\n",
            "Epoch 116/200\n",
            "70/70 [==============================] - 0s 4ms/step - loss: 1.8480e-10 - accuracy: 1.0000 - val_loss: 2.9396e-10 - val_accuracy: 1.0000\n",
            "Epoch 117/200\n",
            "70/70 [==============================] - 0s 4ms/step - loss: 1.8515e-10 - accuracy: 1.0000 - val_loss: 2.6853e-10 - val_accuracy: 1.0000\n",
            "Epoch 118/200\n",
            "70/70 [==============================] - 0s 4ms/step - loss: 1.8812e-10 - accuracy: 1.0000 - val_loss: 2.4818e-10 - val_accuracy: 1.0000\n",
            "Epoch 119/200\n",
            "70/70 [==============================] - 0s 4ms/step - loss: 1.9363e-10 - accuracy: 1.0000 - val_loss: 2.3142e-10 - val_accuracy: 1.0000\n",
            "Epoch 120/200\n",
            "70/70 [==============================] - 0s 4ms/step - loss: 1.9480e-10 - accuracy: 1.0000 - val_loss: 2.1738e-10 - val_accuracy: 1.0000\n",
            "Epoch 121/200\n",
            "70/70 [==============================] - 0s 4ms/step - loss: 2.0173e-10 - accuracy: 1.0000 - val_loss: 2.4504e-10 - val_accuracy: 1.0000\n",
            "Epoch 122/200\n",
            "70/70 [==============================] - 0s 4ms/step - loss: 1.9546e-10 - accuracy: 1.0000 - val_loss: 2.2943e-10 - val_accuracy: 1.0000\n",
            "Epoch 123/200\n",
            "70/70 [==============================] - 0s 4ms/step - loss: 2.0133e-10 - accuracy: 1.0000 - val_loss: 2.1610e-10 - val_accuracy: 1.0000\n",
            "Epoch 124/200\n",
            "70/70 [==============================] - 0s 4ms/step - loss: 2.0993e-10 - accuracy: 1.0000 - val_loss: 2.0463e-10 - val_accuracy: 1.0000\n",
            "Epoch 125/200\n",
            "70/70 [==============================] - 0s 4ms/step - loss: 2.1255e-10 - accuracy: 1.0000 - val_loss: 1.9466e-10 - val_accuracy: 1.0000\n",
            "Epoch 126/200\n",
            "70/70 [==============================] - 0s 4ms/step - loss: 2.3053e-10 - accuracy: 1.0000 - val_loss: 1.8583e-10 - val_accuracy: 1.0000\n",
            "Epoch 127/200\n",
            "70/70 [==============================] - 0s 4ms/step - loss: 2.3510e-10 - accuracy: 1.0000 - val_loss: 2.0988e-10 - val_accuracy: 1.0000\n",
            "Epoch 128/200\n",
            "70/70 [==============================] - 0s 4ms/step - loss: 2.1894e-10 - accuracy: 1.0000 - val_loss: 1.9914e-10 - val_accuracy: 1.0000\n",
            "Epoch 129/200\n",
            "70/70 [==============================] - 0s 4ms/step - loss: 2.2871e-10 - accuracy: 1.0000 - val_loss: 1.8974e-10 - val_accuracy: 1.0000\n",
            "Epoch 130/200\n",
            "70/70 [==============================] - 0s 4ms/step - loss: 2.3565e-10 - accuracy: 1.0000 - val_loss: 1.8139e-10 - val_accuracy: 1.0000\n",
            "Epoch 131/200\n",
            "70/70 [==============================] - 0s 4ms/step - loss: 2.6666e-10 - accuracy: 1.0000 - val_loss: 4.1019e-10 - val_accuracy: 1.0000\n",
            "Epoch 132/200\n",
            "70/70 [==============================] - 0s 4ms/step - loss: 1.9092e-10 - accuracy: 1.0000 - val_loss: 3.4005e-10 - val_accuracy: 1.0000\n",
            "Epoch 133/200\n",
            "70/70 [==============================] - 0s 4ms/step - loss: 1.8386e-10 - accuracy: 1.0000 - val_loss: 2.9622e-10 - val_accuracy: 1.0000\n",
            "Epoch 134/200\n",
            "70/70 [==============================] - 0s 4ms/step - loss: 1.8249e-10 - accuracy: 1.0000 - val_loss: 2.6528e-10 - val_accuracy: 1.0000\n",
            "Epoch 135/200\n",
            "70/70 [==============================] - 0s 4ms/step - loss: 1.7983e-10 - accuracy: 1.0000 - val_loss: 2.4204e-10 - val_accuracy: 1.0000\n",
            "Epoch 136/200\n",
            "70/70 [==============================] - 0s 4ms/step - loss: 1.8132e-10 - accuracy: 1.0000 - val_loss: 2.2370e-10 - val_accuracy: 1.0000\n",
            "Epoch 137/200\n",
            "70/70 [==============================] - 0s 4ms/step - loss: 1.8119e-10 - accuracy: 1.0000 - val_loss: 2.0871e-10 - val_accuracy: 1.0000\n",
            "Epoch 138/200\n",
            "70/70 [==============================] - 0s 4ms/step - loss: 1.8310e-10 - accuracy: 1.0000 - val_loss: 1.9621e-10 - val_accuracy: 1.0000\n",
            "Epoch 139/200\n",
            "70/70 [==============================] - 0s 4ms/step - loss: 1.8415e-10 - accuracy: 1.0000 - val_loss: 1.8560e-10 - val_accuracy: 1.0000\n",
            "Epoch 140/200\n",
            "70/70 [==============================] - 0s 4ms/step - loss: 1.8694e-10 - accuracy: 1.0000 - val_loss: 1.7650e-10 - val_accuracy: 1.0000\n",
            "Epoch 141/200\n",
            "70/70 [==============================] - 0s 4ms/step - loss: 1.9121e-10 - accuracy: 1.0000 - val_loss: 1.6855e-10 - val_accuracy: 1.0000\n",
            "Epoch 142/200\n",
            "70/70 [==============================] - 0s 4ms/step - loss: 1.9755e-10 - accuracy: 1.0000 - val_loss: 1.6155e-10 - val_accuracy: 1.0000\n",
            "Epoch 143/200\n",
            "70/70 [==============================] - 0s 4ms/step - loss: 2.0221e-10 - accuracy: 1.0000 - val_loss: 1.5532e-10 - val_accuracy: 1.0000\n",
            "Epoch 144/200\n",
            "70/70 [==============================] - 0s 4ms/step - loss: 2.0726e-10 - accuracy: 1.0000 - val_loss: 1.4976e-10 - val_accuracy: 1.0000\n",
            "Epoch 145/200\n",
            "70/70 [==============================] - 0s 4ms/step - loss: 2.1241e-10 - accuracy: 1.0000 - val_loss: 1.6962e-10 - val_accuracy: 1.0000\n",
            "Epoch 146/200\n",
            "70/70 [==============================] - 0s 4ms/step - loss: 1.9808e-10 - accuracy: 1.0000 - val_loss: 1.6247e-10 - val_accuracy: 1.0000\n",
            "Epoch 147/200\n",
            "70/70 [==============================] - 0s 4ms/step - loss: 2.0677e-10 - accuracy: 1.0000 - val_loss: 1.5620e-10 - val_accuracy: 1.0000\n",
            "Epoch 148/200\n",
            "70/70 [==============================] - 0s 4ms/step - loss: 2.1441e-10 - accuracy: 1.0000 - val_loss: 1.5064e-10 - val_accuracy: 1.0000\n",
            "Epoch 149/200\n",
            "70/70 [==============================] - 0s 4ms/step - loss: 2.2229e-10 - accuracy: 1.0000 - val_loss: 1.4562e-10 - val_accuracy: 1.0000\n",
            "Epoch 150/200\n",
            "70/70 [==============================] - 0s 4ms/step - loss: 2.2935e-10 - accuracy: 1.0000 - val_loss: 1.4105e-10 - val_accuracy: 1.0000\n",
            "Epoch 151/200\n",
            "70/70 [==============================] - 0s 3ms/step - loss: 2.3393e-10 - accuracy: 1.0000 - val_loss: 1.3689e-10 - val_accuracy: 1.0000\n",
            "Epoch 152/200\n",
            "70/70 [==============================] - 0s 4ms/step - loss: 2.4762e-10 - accuracy: 1.0000 - val_loss: 1.3307e-10 - val_accuracy: 1.0000\n",
            "Epoch 153/200\n",
            "70/70 [==============================] - 0s 4ms/step - loss: 2.3748e-10 - accuracy: 1.0000 - val_loss: 2.8124e-10 - val_accuracy: 1.0000\n",
            "Epoch 154/200\n",
            "70/70 [==============================] - 0s 4ms/step - loss: 1.7891e-10 - accuracy: 1.0000 - val_loss: 2.4700e-10 - val_accuracy: 1.0000\n",
            "Epoch 155/200\n",
            "70/70 [==============================] - 0s 4ms/step - loss: 1.7650e-10 - accuracy: 1.0000 - val_loss: 2.2300e-10 - val_accuracy: 1.0000\n",
            "Epoch 156/200\n",
            "70/70 [==============================] - 0s 4ms/step - loss: 1.7550e-10 - accuracy: 1.0000 - val_loss: 2.0482e-10 - val_accuracy: 1.0000\n",
            "Epoch 157/200\n",
            "70/70 [==============================] - 0s 4ms/step - loss: 1.7466e-10 - accuracy: 1.0000 - val_loss: 1.9040e-10 - val_accuracy: 1.0000\n",
            "Epoch 158/200\n",
            "70/70 [==============================] - 0s 4ms/step - loss: 1.7440e-10 - accuracy: 1.0000 - val_loss: 1.7875e-10 - val_accuracy: 1.0000\n",
            "Epoch 159/200\n",
            "70/70 [==============================] - 0s 4ms/step - loss: 1.7576e-10 - accuracy: 1.0000 - val_loss: 1.6897e-10 - val_accuracy: 1.0000\n",
            "Epoch 160/200\n",
            "70/70 [==============================] - 0s 4ms/step - loss: 1.7584e-10 - accuracy: 1.0000 - val_loss: 1.6068e-10 - val_accuracy: 1.0000\n",
            "Epoch 161/200\n",
            "70/70 [==============================] - 0s 4ms/step - loss: 1.7726e-10 - accuracy: 1.0000 - val_loss: 1.5354e-10 - val_accuracy: 1.0000\n",
            "Epoch 162/200\n",
            "70/70 [==============================] - 0s 4ms/step - loss: 1.7962e-10 - accuracy: 1.0000 - val_loss: 1.4727e-10 - val_accuracy: 1.0000\n",
            "Epoch 163/200\n",
            "70/70 [==============================] - 0s 4ms/step - loss: 1.8183e-10 - accuracy: 1.0000 - val_loss: 1.4175e-10 - val_accuracy: 1.0000\n",
            "Epoch 164/200\n",
            "70/70 [==============================] - 0s 4ms/step - loss: 1.8422e-10 - accuracy: 1.0000 - val_loss: 1.3684e-10 - val_accuracy: 1.0000\n",
            "Epoch 165/200\n",
            "70/70 [==============================] - 0s 4ms/step - loss: 1.8638e-10 - accuracy: 1.0000 - val_loss: 1.3243e-10 - val_accuracy: 1.0000\n",
            "Epoch 166/200\n",
            "70/70 [==============================] - 0s 4ms/step - loss: 1.8955e-10 - accuracy: 1.0000 - val_loss: 1.2843e-10 - val_accuracy: 1.0000\n",
            "Epoch 167/200\n",
            "70/70 [==============================] - 0s 4ms/step - loss: 1.9303e-10 - accuracy: 1.0000 - val_loss: 1.2479e-10 - val_accuracy: 1.0000\n",
            "Epoch 168/200\n",
            "70/70 [==============================] - 0s 4ms/step - loss: 1.9774e-10 - accuracy: 1.0000 - val_loss: 1.2148e-10 - val_accuracy: 1.0000\n",
            "Epoch 169/200\n",
            "70/70 [==============================] - 0s 4ms/step - loss: 2.0512e-10 - accuracy: 1.0000 - val_loss: 1.1847e-10 - val_accuracy: 1.0000\n",
            "Epoch 170/200\n",
            "70/70 [==============================] - 0s 4ms/step - loss: 2.0740e-10 - accuracy: 1.0000 - val_loss: 1.3308e-10 - val_accuracy: 1.0000\n",
            "Epoch 171/200\n",
            "70/70 [==============================] - 0s 4ms/step - loss: 1.9496e-10 - accuracy: 1.0000 - val_loss: 1.2896e-10 - val_accuracy: 1.0000\n",
            "Epoch 172/200\n",
            "70/70 [==============================] - 0s 4ms/step - loss: 1.9795e-10 - accuracy: 1.0000 - val_loss: 1.2529e-10 - val_accuracy: 1.0000\n",
            "Epoch 173/200\n",
            "70/70 [==============================] - 0s 4ms/step - loss: 2.0345e-10 - accuracy: 1.0000 - val_loss: 1.2193e-10 - val_accuracy: 1.0000\n",
            "Epoch 174/200\n",
            "70/70 [==============================] - 0s 4ms/step - loss: 2.0604e-10 - accuracy: 1.0000 - val_loss: 1.1886e-10 - val_accuracy: 1.0000\n",
            "Epoch 175/200\n",
            "70/70 [==============================] - 0s 4ms/step - loss: 2.1268e-10 - accuracy: 1.0000 - val_loss: 1.1603e-10 - val_accuracy: 1.0000\n",
            "Epoch 176/200\n",
            "70/70 [==============================] - 0s 4ms/step - loss: 2.1970e-10 - accuracy: 1.0000 - val_loss: 1.1342e-10 - val_accuracy: 1.0000\n",
            "Epoch 177/200\n",
            "70/70 [==============================] - 0s 4ms/step - loss: 2.2668e-10 - accuracy: 1.0000 - val_loss: 1.1101e-10 - val_accuracy: 1.0000\n",
            "Epoch 178/200\n",
            "70/70 [==============================] - 0s 5ms/step - loss: 2.3813e-10 - accuracy: 1.0000 - val_loss: 1.0877e-10 - val_accuracy: 1.0000\n",
            "Epoch 179/200\n",
            "70/70 [==============================] - 0s 4ms/step - loss: 1.8844e-10 - accuracy: 1.0000 - val_loss: 1.1634e-10 - val_accuracy: 1.0000\n",
            "Epoch 180/200\n",
            "70/70 [==============================] - 0s 4ms/step - loss: 1.3647e-10 - accuracy: 1.0000 - val_loss: 1.1338e-10 - val_accuracy: 1.0000\n",
            "Epoch 181/200\n",
            "70/70 [==============================] - 0s 4ms/step - loss: 1.4169e-10 - accuracy: 1.0000 - val_loss: 1.1066e-10 - val_accuracy: 1.0000\n",
            "Epoch 182/200\n",
            "70/70 [==============================] - 0s 4ms/step - loss: 1.4421e-10 - accuracy: 1.0000 - val_loss: 1.0813e-10 - val_accuracy: 1.0000\n",
            "Epoch 183/200\n",
            "70/70 [==============================] - 0s 4ms/step - loss: 1.5190e-10 - accuracy: 1.0000 - val_loss: 1.0578e-10 - val_accuracy: 1.0000\n",
            "Epoch 184/200\n",
            "70/70 [==============================] - 0s 4ms/step - loss: 1.5572e-10 - accuracy: 1.0000 - val_loss: 1.0358e-10 - val_accuracy: 1.0000\n",
            "Epoch 185/200\n",
            "70/70 [==============================] - 0s 4ms/step - loss: 1.6270e-10 - accuracy: 1.0000 - val_loss: 1.0155e-10 - val_accuracy: 1.0000\n",
            "Epoch 186/200\n",
            "70/70 [==============================] - 0s 4ms/step - loss: 1.6703e-10 - accuracy: 1.0000 - val_loss: 9.9730e-11 - val_accuracy: 1.0000\n",
            "Epoch 187/200\n",
            "70/70 [==============================] - 0s 4ms/step - loss: 1.7354e-10 - accuracy: 1.0000 - val_loss: 9.8010e-11 - val_accuracy: 1.0000\n",
            "Epoch 188/200\n",
            "70/70 [==============================] - 0s 4ms/step - loss: 1.7441e-10 - accuracy: 1.0000 - val_loss: 1.9348e-10 - val_accuracy: 1.0000\n",
            "Epoch 189/200\n",
            "70/70 [==============================] - 0s 4ms/step - loss: 1.1618e-10 - accuracy: 1.0000 - val_loss: 1.7407e-10 - val_accuracy: 1.0000\n",
            "Epoch 190/200\n",
            "70/70 [==============================] - 0s 4ms/step - loss: 1.1385e-10 - accuracy: 1.0000 - val_loss: 1.6019e-10 - val_accuracy: 1.0000\n",
            "Epoch 191/200\n",
            "70/70 [==============================] - 0s 4ms/step - loss: 1.1425e-10 - accuracy: 1.0000 - val_loss: 1.4977e-10 - val_accuracy: 1.0000\n",
            "Epoch 192/200\n",
            "70/70 [==============================] - 0s 4ms/step - loss: 1.1485e-10 - accuracy: 1.0000 - val_loss: 1.4139e-10 - val_accuracy: 1.0000\n",
            "Epoch 193/200\n",
            "70/70 [==============================] - 0s 4ms/step - loss: 1.1486e-10 - accuracy: 1.0000 - val_loss: 1.3466e-10 - val_accuracy: 1.0000\n",
            "Epoch 194/200\n",
            "70/70 [==============================] - 0s 4ms/step - loss: 1.1554e-10 - accuracy: 1.0000 - val_loss: 1.2887e-10 - val_accuracy: 1.0000\n",
            "Epoch 195/200\n",
            "70/70 [==============================] - 0s 4ms/step - loss: 1.1571e-10 - accuracy: 1.0000 - val_loss: 1.2387e-10 - val_accuracy: 1.0000\n",
            "Epoch 196/200\n",
            "70/70 [==============================] - 0s 4ms/step - loss: 1.1673e-10 - accuracy: 1.0000 - val_loss: 1.1946e-10 - val_accuracy: 1.0000\n",
            "Epoch 197/200\n",
            "70/70 [==============================] - 0s 4ms/step - loss: 1.1735e-10 - accuracy: 1.0000 - val_loss: 1.1555e-10 - val_accuracy: 1.0000\n",
            "Epoch 198/200\n",
            "70/70 [==============================] - 0s 4ms/step - loss: 1.1834e-10 - accuracy: 1.0000 - val_loss: 1.1202e-10 - val_accuracy: 1.0000\n",
            "Epoch 199/200\n",
            "70/70 [==============================] - 0s 4ms/step - loss: 1.1896e-10 - accuracy: 1.0000 - val_loss: 1.0885e-10 - val_accuracy: 1.0000\n",
            "Epoch 200/200\n",
            "70/70 [==============================] - 0s 4ms/step - loss: 1.2073e-10 - accuracy: 1.0000 - val_loss: 1.0599e-10 - val_accuracy: 1.0000\n"
          ],
          "name": "stdout"
        }
      ]
    },
    {
      "cell_type": "markdown",
      "metadata": {
        "id": "_1Qemmg83t9U"
      },
      "source": [
        "## Model Evaluation\n",
        "Evaluating the model requires that you first choose a separate dataset used to evaluate the model. This should be data not used in the training process i.e. the X_test.\n",
        "\n",
        "Now, let us use the trained model to predict the probability values for the new data set - The test set we had initially created. The below code passes the X_test and y_test to the trained model and gives out the probability."
      ]
    },
    {
      "cell_type": "code",
      "metadata": {
        "id": "RakwKTN63xXr",
        "colab": {
          "base_uri": "https://localhost:8080/"
        },
        "outputId": "1e9fb6ea-0b24-484e-dec1-7b0880bd0852"
      },
      "source": [
        "model.evaluate(X_test, y_test)"
      ],
      "execution_count": 14,
      "outputs": [
        {
          "output_type": "stream",
          "text": [
            "7/7 [==============================] - 0s 3ms/step - loss: 1.5296e-07 - accuracy: 1.0000\n"
          ],
          "name": "stdout"
        },
        {
          "output_type": "execute_result",
          "data": {
            "text/plain": [
              "[1.5296247113383288e-07, 1.0]"
            ]
          },
          "metadata": {
            "tags": []
          },
          "execution_count": 14
        }
      ]
    },
    {
      "cell_type": "markdown",
      "metadata": {
        "id": "jxzypkQU36Ct"
      },
      "source": [
        "### Model Accuracy\n",
        "Now, we'll use the history object created above to plot the Accuracy and Loss throughout the training process.\n",
        "\n",
        "You can think of history.history as a Python dictionary from which the values can be obtained by specifying a key within square brackets.\n",
        "\n",
        "For eg. `history.history['accuracy']` will give the train accuracy throughout the training process."
      ]
    },
    {
      "cell_type": "code",
      "metadata": {
        "id": "UEaLK66a37wr",
        "colab": {
          "base_uri": "https://localhost:8080/",
          "height": 295
        },
        "outputId": "72078143-a8a2-4a46-fbcf-13f1cf3004e5"
      },
      "source": [
        "plt.plot(history.history['accuracy'])\n",
        "plt.plot(history.history['val_accuracy'])\n",
        "plt.title('Model Accuracy')\n",
        "plt.ylabel('accuracy')\n",
        "plt.xlabel('epoch')\n",
        "plt.legend(['Train', 'Validation'])\n",
        "plt.show()"
      ],
      "execution_count": 15,
      "outputs": [
        {
          "output_type": "display_data",
          "data": {
            "image/png": "[encoded data removed]",
            "text/plain": [
              "<Figure size 432x288 with 1 Axes>"
            ]
          },
          "metadata": {
            "tags": [],
            "needs_background": "light"
          }
        }
      ]
    },
    {
      "cell_type": "markdown",
      "metadata": {
        "id": "rAi1mZIY4FLo"
      },
      "source": [
        "### Model Loss"
      ]
    },
    {
      "cell_type": "code",
      "metadata": {
        "id": "-q68G3cc4G_u",
        "colab": {
          "base_uri": "https://localhost:8080/",
          "height": 295
        },
        "outputId": "157b2909-286f-44ed-fd8e-cf2369a08f28"
      },
      "source": [
        "plt.plot(history.history['loss'])\n",
        "plt.plot(history.history['val_loss'])\n",
        "plt.title('Model Loss')\n",
        "plt.ylabel('loss')\n",
        "plt.xlabel('epoch')\n",
        "plt.legend(['Train', 'Validation'])\n",
        "plt.show()"
      ],
      "execution_count": 16,
      "outputs": [
        {
          "output_type": "display_data",
          "data": {
            "image/png": "[encoded data removed]",
            "text/plain": [
              "<Figure size 432x288 with 1 Axes>"
            ]
          },
          "metadata": {
            "tags": [],
            "needs_background": "light"
          }
        }
      ]
    }
  ]
}